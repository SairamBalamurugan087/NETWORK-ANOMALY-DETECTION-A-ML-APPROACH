{
 "cells": [
  {
   "cell_type": "code",
   "execution_count": 1,
   "metadata": {},
   "outputs": [],
   "source": [
    "import random\n",
    "import os\n",
    "import pandas as pd\n",
    "import time\n",
    "seconds = time.time()\n",
    "%matplotlib inline"
   ]
  },
  {
   "cell_type": "markdown",
   "metadata": {},
   "source": [
    "FUNCTION THAT CREATES ATTACK FOLDER IN PROGRAM DIRECTORY"
   ]
  },
  {
   "cell_type": "code",
   "execution_count": 2,
   "metadata": {},
   "outputs": [
    {
     "name": "stdout",
     "output_type": "stream",
     "text": [
      "This process may take 3 to 8 minutes, depending on the performance of your computer.\n",
      "\n",
      "\n",
      "\n"
     ]
    }
   ],
   "source": [
    "def folder(f_name): \n",
    "    try:\n",
    "        if not os.path.exists(f_name):\n",
    "            os.makedirs(f_name)\n",
    "    except OSError:\n",
    "        print (\"Tthe folder could not be created!\")\n",
    "        \n",
    "\n",
    "\n",
    "print(\"This process may take 3 to 8 minutes, depending on the performance of your computer.\\n\\n\\n\")"
   ]
  },
  {
   "cell_type": "code",
   "execution_count": 3,
   "metadata": {},
   "outputs": [],
   "source": [
    "main_labels=[\"Flow ID\",\"Source IP\",\"Source Port\",\"Destination IP\",\"Destination Port\",\"Protocol\",\"Timestamp\",\"Flow Duration\",\"Total Fwd Packets\",\n",
    "   \"Total Backward Packets\",\"Total Length of Fwd Packets\",\"Total Length of Bwd Packets\",\"Fwd Packet Length Max\",\"Fwd Packet Length Min\",\n",
    "   \"Fwd Packet Length Mean\",\"Fwd Packet Length Std\",\"Bwd Packet Length Max\",\"Bwd Packet Length Min\",\"Bwd Packet Length Mean\",\"Bwd Packet Length Std\",\n",
    "   \"Flow Bytes/s\",\"Flow Packets/s\",\"Flow IAT Mean\",\"Flow IAT Std\",\"Flow IAT Max\",\"Flow IAT Min\",\"Fwd IAT Total\",\"Fwd IAT Mean\",\"Fwd IAT Std\",\"Fwd IAT Max\",\n",
    "   \"Fwd IAT Min\",\"Bwd IAT Total\",\"Bwd IAT Mean\",\"Bwd IAT Std\",\"Bwd IAT Max\",\"Bwd IAT Min\",\"Fwd PSH Flags\",\"Bwd PSH Flags\",\"Fwd URG Flags\",\"Bwd URG Flags\",\n",
    "   \"Fwd Header Length\",\"Bwd Header Length\",\"Fwd Packets/s\",\"Bwd Packets/s\",\"Min Packet Length\",\"Max Packet Length\",\"Packet Length Mean\",\"Packet Length Std\",\n",
    "   \"Packet Length Variance\",\"FIN Flag Count\",\"SYN Flag Count\",\"RST Flag Count\",\"PSH Flag Count\",\"ACK Flag Count\",\"URG Flag Count\",\"CWE Flag Count\",\n",
    "   \"ECE Flag Count\",\"Down/Up Ratio\",\"Average Packet Size\",\"Avg Fwd Segment Size\",\"Avg Bwd Segment Size\",\"Fwd Avg Bytes/Bulk\",\n",
    "   \"Fwd Avg Packets/Bulk\",\"Fwd Avg Bulk Rate\",\"Bwd Avg Bytes/Bulk\",\"Bwd Avg Packets/Bulk\",\"Bwd Avg Bulk Rate\",\"Subflow Fwd Packets\",\"Subflow Fwd Bytes\",\n",
    "   \"Subflow Bwd Packets\",\"Subflow Bwd Bytes\",\"Init_Win_bytes_forward\",\"Init_Win_bytes_backward\",\"act_data_pkt_fwd\",\n",
    "   \"min_seg_size_forward\",\"Active Mean\",\"Active Std\",\"Active Max\",\"Active Min\",\"Idle Mean\",\"Idle Std\",\"Idle Max\",\"Idle Min\",\"Label\",\"External IP\"]\n",
    "main_labels=( \",\".join( i for i in main_labels ) )\n",
    "\n",
    "attacks=[\"BENIGN\", \"Bot\", \"DDoS\", \"DoS GoldenEye\", \"DoS Hulk\", \"DoS Slowhttptest\", \"DoS slowloris\", \"FTP-Patator\", \"Heartbleed\", \"Infiltration\", \"PortScan\", \"SSH-Patator\", \"Web Attack – Brute Force\", \"Web Attack – Sql Injection\", \"Web Attack – XSS\"]\n",
    "folder(\"./attacks/\")\n",
    "\n",
    "benign=2359289\n",
    "\n",
    "dict_attack={\n",
    "\"Bot\":1966,\n",
    "\"DDoS\":41835,\n",
    "\"DoS GoldenEye\":10293,\n",
    "\"DoS Hulk\":231073,\n",
    "\"DoS Slowhttptest\":5499,\n",
    "\"DoS slowloris\":5796,\n",
    "\"FTP-Patator\":7938,\n",
    "\"Heartbleed\":11,\n",
    "\"Infiltration\":36,\n",
    "\"PortScan\":158930,\n",
    "\"SSH-Patator\":5897,\n",
    "\"Web Attack - Brute Force\":1507,\n",
    "\"Web Attack - XSS\":652,\n",
    "\"Web Attack - Sql Injection\":21}\n"
   ]
  },
  {
   "cell_type": "markdown",
   "metadata": {},
   "source": [
    "Each attack type corresponds to a file opened, and it's logged alongside a randomly selected benign flow."
   ]
  },
  {
   "cell_type": "code",
   "execution_count": 4,
   "metadata": {},
   "outputs": [
    {
     "name": "stdout",
     "output_type": "stream",
     "text": [
      "Bot file is completed\n",
      " attack:1966\n",
      " benign:4592\n",
      "\n",
      "\n",
      " \n",
      "DDoS file is completed\n",
      " attack:41835\n",
      " benign:98121\n",
      "\n",
      "\n",
      " \n",
      "DoS GoldenEye file is completed\n",
      " attack:10293\n",
      " benign:24248\n",
      "\n",
      "\n",
      " \n",
      "DoS Hulk file is completed\n",
      " attack:231073\n",
      " benign:590836\n",
      "\n",
      "\n",
      " \n",
      "DoS Slowhttptest file is completed\n",
      " attack:5499\n",
      " benign:12882\n",
      "\n",
      "\n",
      " \n",
      "DoS slowloris file is completed\n",
      " attack:5796\n",
      " benign:13527\n",
      "\n",
      "\n",
      " \n",
      "FTP-Patator file is completed\n",
      " attack:7938\n",
      " benign:18582\n",
      "\n",
      "\n",
      " \n",
      "Heartbleed file is completed\n",
      " attack:11\n",
      " benign:29\n",
      "\n",
      "\n",
      " \n",
      "Infiltration file is completed\n",
      " attack:36\n",
      " benign:75\n",
      "\n",
      "\n",
      " \n",
      "PortScan file is completed\n",
      " attack:158930\n",
      " benign:393502\n",
      "\n",
      "\n",
      " \n",
      "SSH-Patator file is completed\n",
      " attack:5897\n",
      " benign:13751\n",
      "\n",
      "\n",
      " \n",
      "Web Attack - Brute Force file is completed\n",
      " attack:1507\n",
      " benign:3470\n",
      "\n",
      "\n",
      " \n",
      "Web Attack - XSS file is completed\n",
      " attack:652\n",
      " benign:1502\n",
      "\n",
      "\n",
      " \n",
      "Web Attack - Sql Injection file is completed\n",
      " attack:21\n",
      " benign:43\n",
      "\n",
      "\n",
      " \n"
     ]
    }
   ],
   "source": [
    "for i in dict_attack: \n",
    "    a,b=0,0\n",
    "    ths = open(\".\\\\attacks\\\\\"+i + \".csv\", \"w\")\n",
    "    ths.write(str(main_labels)+\"\\n\")\n",
    "    benign_num=int(benign/(dict_attack[i]*(7/3)))\n",
    "    with open(\"all_data.csv\", \"r\") as file:\n",
    "        while True:\n",
    "            try:\n",
    "                line=file.readline()\n",
    "                line=line[:-1]\n",
    "                k=line.split(\",\")\n",
    "                if k[83]==\"BENIGN\":\n",
    "                    rnd=random.randint(1,benign_num)\n",
    "                    if rnd==1:\n",
    "                            ths.write(str(line)+\"\\n\")\n",
    "                            b+=1\n",
    "                if  k[83]==i:\n",
    "                    ths.write(str(line)+\"\\n\")\n",
    "                    a+=1\n",
    "                else:\n",
    "                    continue                       \n",
    "            except:\n",
    "                break\n",
    "    ths.close()\n",
    "    print(i ,\"file is completed\\n attack:%d\\n benign:%d\\n\\n\\n \" %(a,b))\n"
   ]
  },
  {
   "cell_type": "markdown",
   "metadata": {},
   "source": [
    "Consolidate all the web attack files into one single file."
   ]
  },
  {
   "cell_type": "code",
   "execution_count": 5,
   "metadata": {},
   "outputs": [
    {
     "name": "stdout",
     "output_type": "stream",
     "text": [
      "operation time: =  647.9738907814026 seconds\n"
     ]
    }
   ],
   "source": [
    "webs=[\"Web Attack - Brute Force\",\"Web Attack - XSS\",\"Web Attack - Sql Injection\"]\n",
    "flag=True\n",
    "for i in webs:\n",
    "    df=pd.read_csv(\".\\\\attacks\\\\\"+str(i)+\".csv\")\n",
    "    if flag:\n",
    "        df.to_csv('.\\\\attacks\\\\Web Attack.csv' ,index = False)\n",
    "        flag=False\n",
    "    else:\n",
    "        df.to_csv('.\\\\attacks\\\\Web Attack.csv' ,index = False,header=False,mode=\"a\")\n",
    "    os.remove(\".\\\\attacks\\\\\"+str(i)+\".csv\")\n",
    "\n",
    "print(\"operation time: = \",time.time()- seconds ,\"seconds\")"
   ]
  },
  {
   "cell_type": "code",
   "execution_count": null,
   "metadata": {},
   "outputs": [],
   "source": []
  }
 ],
 "metadata": {
  "kernelspec": {
   "display_name": "Python 3",
   "language": "python",
   "name": "python3"
  },
  "language_info": {
   "codemirror_mode": {
    "name": "ipython",
    "version": 3
   },
   "file_extension": ".py",
   "mimetype": "text/x-python",
   "name": "python",
   "nbconvert_exporter": "python",
   "pygments_lexer": "ipython3",
   "version": "3.12.0"
  }
 },
 "nbformat": 4,
 "nbformat_minor": 2
}
